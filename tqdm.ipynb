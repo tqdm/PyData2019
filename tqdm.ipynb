{
 "cells": [
  {
   "cell_type": "markdown",
   "metadata": {
    "slideshow": {
     "slide_type": "slide"
    }
   },
   "source": [
    "<h1 align=\"center\">tqdm: A fast, extensible progress bar</h1>\n",
    "<img src=\"https://img.tqdm.ml/logo.gif\" align=\"left\" />\n",
    "\n",
    "[![PyPI-Versions](https://img.shields.io/pypi/pyversions/tqdm.svg?logo=python&logoColor=white)](https://pypi.org/project/tqdm)|[![PyPI-Status](https://img.shields.io/pypi/v/tqdm.svg)](https://tqdm.github.io/releases)|[![Conda-Forge-Status](https://img.shields.io/conda/v/conda-forge/tqdm.svg?label=conda-forge&logo=conda-forge)](https://anaconda.org/conda-forge/tqdm)|[![Snapcraft](https://img.shields.io/badge/snap-install-82BEA0.svg?logo=snapcraft)](https://snapcraft.io/tqdm)\n",
    "-|-|-|-\n",
    "\n",
    "[![Build-Status](https://img.shields.io/travis/tqdm/tqdm/master.svg?logo=travis)](https://travis-ci.org/tqdm/tqdm)|[![Coverage-Status](https://coveralls.io/repos/tqdm/tqdm/badge.svg?branch=master)](https://coveralls.io/github/tqdm/tqdm)|[![Branch-Coverage-Status](https://codecov.io/gh/tqdm/tqdm/branch/master/graph/badge.svg)](https://codecov.io/gh/tqdm/tqdm)|[![Codacy-Grade](https://api.codacy.com/project/badge/Grade/3f965571598f44549c7818f29cdcf177)](https://www.codacy.com/app/tqdm/tqdm?utm_source=github.com&amp;utm_medium=referral&amp;utm_content=tqdm/tqdm&amp;utm_campaign=Badge_Grade)|[![Libraries-Rank](https://img.shields.io/librariesio/sourcerank/pypi/tqdm.svg?logo=koding&logoColor=white)](https://libraries.io/pypi/tqdm)|[![PyPI-Downloads](https://img.shields.io/pypi/dm/tqdm.svg?label=pypi%20downloads&logo=python&logoColor=white)](https://pepy.tech/project/tqdm)\n",
    "-|-|-|-|-|-\n",
    "\n",
    "\n",
    "[![DOI-URI](https://zenodo.org/badge/21637/tqdm/tqdm.svg)](https://zenodo.org/badge/latestdoi/21637/tqdm/tqdm)|[![LICENCE](https://img.shields.io/pypi/l/tqdm.svg)](https://raw.githubusercontent.com/tqdm/tqdm/master/LICENCE)|[![OpenHub-Status](https://www.openhub.net/p/tqdm/widgets/project_thin_badge?format=gif)](https://www.openhub.net/p/tqdm?ref=Thin+badge)|[![README-Hits](https://caspersci.uk.to/cgi-bin/hits.cgi?q=tqdm&style=social&r=https://github.com/tqdm/tqdm&l=https://img.tqdm.ml/favicon.png&f=https://img.tqdm.ml/logo.gif)](https://caspersci.uk.to/cgi-bin/hits.cgi?q=tqdm&a=plot&r=https://github.com/tqdm/tqdm&l=https://img.tqdm.ml/favicon.png&f=https://img.tqdm.ml/logo.gif&style=social)\n",
    "-|-|-|-\n",
    "\n",
    "**taqadum**: progress (from Arabic: تقدّم).\n",
    "\n",
    "**tqdm**: I love you so much (from Spanish: *te quiero demasiado*).\n",
    "\n",
    "Instantly make your loops show a smart progress meter - just wrap any\n",
    "iterable with `tqdm(iterable)`, and you're done!\n",
    "\n",
    "\n",
    "<small><a href=\"https://www.cdcl.ml\">Casper O. da Costa-Luis</a>. PyData London, May 2019.</small>\n",
    "[![@casperdcl](https://img.shields.io/badge/GitHub-%40casperdcl-black.svg?style=social&logo=github)](https://github.com/casperdcl)\n",
    "[![gift-donate](https://img.shields.io/badge/gift-donate-ff69b4.svg)](https://www.cdcl.ml/sponsor/)"
   ]
  },
  {
   "cell_type": "markdown",
   "metadata": {
    "slideshow": {
     "slide_type": "subslide"
    }
   },
   "source": [
    "![Screenshot](https://img.tqdm.ml/tqdm.gif)\n",
    "\n",
    "- https://pypi.org/project/tqdm  (pip page)\n",
    "- https://github.com/tqdm (everything you could want*)\n",
    "- https://tqdm.github.io (snazzy new layout)\n",
    "- https://tqdm.github.io/PyData2019/slides.html (these slides)\n",
    "\n",
    "*<small>source code, documentation, examples, wiki, release history, issue tracker, divine inspiration, solution to global warming</small>"
   ]
  },
  {
   "cell_type": "markdown",
   "metadata": {
    "slideshow": {
     "slide_type": "slide"
    }
   },
   "source": [
    "## Before"
   ]
  },
  {
   "cell_type": "code",
   "execution_count": 1,
   "metadata": {
    "slideshow": {
     "slide_type": "-"
    }
   },
   "outputs": [
    {
     "name": "stdout",
     "output_type": "stream",
     "text": [
      "Er, how long did that take?\n"
     ]
    }
   ],
   "source": [
    "from time import sleep\n",
    "for i in range(100):\n",
    "    sleep(0.01)\n",
    "print(\"Er, how long did that take?\")"
   ]
  },
  {
   "cell_type": "markdown",
   "metadata": {
    "slideshow": {
     "slide_type": "fragment"
    }
   },
   "source": [
    "## After"
   ]
  },
  {
   "cell_type": "code",
   "execution_count": 2,
   "metadata": {
    "slideshow": {
     "slide_type": "-"
    }
   },
   "outputs": [
    {
     "name": "stderr",
     "output_type": "stream",
     "text": [
      "100%|██████████| 100/100 [00:01<00:00, 97.05it/s]\n"
     ]
    }
   ],
   "source": [
    "from tqdm import tqdm       # <-- yes\n",
    "from time import sleep\n",
    "for i in tqdm(range(100)):  # <-- magic\n",
    "    sleep(0.01)"
   ]
  },
  {
   "cell_type": "markdown",
   "metadata": {
    "slideshow": {
     "slide_type": "slide"
    }
   },
   "source": [
    "`trange(N)` can be also used as a convenient shortcut for\n",
    "`tqdm(xrange(N))`."
   ]
  },
  {
   "cell_type": "code",
   "execution_count": 3,
   "metadata": {
    "slideshow": {
     "slide_type": "fragment"
    }
   },
   "outputs": [
    {
     "name": "stderr",
     "output_type": "stream",
     "text": [
      "100%|██████████| 100/100 [00:01<00:00, 96.91it/s]\n"
     ]
    }
   ],
   "source": [
    "from tqdm import trange\n",
    "from time import sleep\n",
    "for i in trange(100):\n",
    "    sleep(0.01)"
   ]
  },
  {
   "cell_type": "code",
   "execution_count": 4,
   "metadata": {
    "slideshow": {
     "slide_type": "fragment"
    }
   },
   "outputs": [
    {
     "name": "stderr",
     "output_type": "stream",
     "text": [
      "hello: 100%|██████████| 100/100 [00:01<00:00, 96.89epoch/s]\n"
     ]
    }
   ],
   "source": [
    "from tqdm import trange\n",
    "from time import sleep\n",
    "for i in trange(100, desc=\"hello\", unit=\"epoch\"):\n",
    "    sleep(0.01)"
   ]
  },
  {
   "cell_type": "markdown",
   "metadata": {
    "slideshow": {
     "slide_type": "slide"
    }
   },
   "source": [
    "It can also be executed as a module with pipes:"
   ]
  },
  {
   "cell_type": "code",
   "execution_count": 5,
   "metadata": {
    "slideshow": {
     "slide_type": "fragment"
    }
   },
   "outputs": [
    {
     "name": "stdout",
     "output_type": "stream",
     "text": [
      "999999it [00:00, 2330224.81it/s]\n",
      "999999\n"
     ]
    }
   ],
   "source": [
    "! seq 999999 | python3 -m tqdm | wc -l"
   ]
  },
  {
   "cell_type": "code",
   "execution_count": 6,
   "metadata": {
    "slideshow": {
     "slide_type": "fragment"
    }
   },
   "outputs": [
    {
     "name": "stdout",
     "output_type": "stream",
     "text": [
      "75.2MB [00:00, 236MB/s]\n",
      "9999999\n"
     ]
    }
   ],
   "source": [
    "! seq 9999999 | python3 -m tqdm --bytes | wc -l"
   ]
  },
  {
   "cell_type": "code",
   "execution_count": 7,
   "metadata": {
    "slideshow": {
     "slide_type": "fragment"
    }
   },
   "outputs": [
    {
     "name": "stdout",
     "output_type": "stream",
     "text": [
      " 99%|██████████████████████████████████████▍| 75.2M/76.3M [00:00<00:00, 245MB/s]\n",
      "9999999\n"
     ]
    }
   ],
   "source": [
    "! seq 9999999 | python3 -m tqdm --bytes --total 80000000 | wc -l"
   ]
  },
  {
   "cell_type": "markdown",
   "metadata": {
    "slideshow": {
     "slide_type": "slide"
    }
   },
   "source": [
    "## Why?"
   ]
  },
  {
   "cell_type": "markdown",
   "metadata": {
    "slideshow": {
     "slide_type": "fragment"
    }
   },
   "source": [
    "- Easy"
   ]
  },
  {
   "cell_type": "markdown",
   "metadata": {
    "slideshow": {
     "slide_type": "fragment"
    }
   },
   "source": [
    "- Quick\n",
    "  - <100ns per iteration overhead\n",
    "  - Unit tested against performance regression\n",
    "  - Skips unnecessary iteration displays (no console spamming)"
   ]
  },
  {
   "cell_type": "markdown",
   "metadata": {
    "slideshow": {
     "slide_type": "fragment"
    }
   },
   "source": [
    "- Intelligent ETA (remaining time)"
   ]
  },
  {
   "cell_type": "markdown",
   "metadata": {
    "slideshow": {
     "slide_type": "fragment"
    }
   },
   "source": [
    "- Cross-platform (Linux, Windows, Mac, FreeBSD, NetBSD, Solaris/SunOS)"
   ]
  },
  {
   "cell_type": "markdown",
   "metadata": {
    "slideshow": {
     "slide_type": "fragment"
    }
   },
   "source": [
    "- Console, terminal, GUI, IPython/Jupyter"
   ]
  },
  {
   "cell_type": "markdown",
   "metadata": {
    "slideshow": {
     "slide_type": "fragment"
    }
   },
   "source": [
    "- Dependency-free"
   ]
  },
  {
   "cell_type": "markdown",
   "metadata": {
    "slideshow": {
     "slide_type": "slide"
    }
   },
   "source": [
    "## Usage\n",
    "\n",
    "(It's versatile)"
   ]
  },
  {
   "cell_type": "markdown",
   "metadata": {
    "slideshow": {
     "slide_type": "subslide"
    }
   },
   "source": [
    "### Iterable-based\n",
    "\n",
    "Wrap `tqdm()` around any iterable:"
   ]
  },
  {
   "cell_type": "code",
   "execution_count": 8,
   "metadata": {
    "slideshow": {
     "slide_type": "-"
    }
   },
   "outputs": [
    {
     "name": "stderr",
     "output_type": "stream",
     "text": [
      "100%|██████████| 4/4 [00:01<00:00,  3.97it/s]\n"
     ]
    }
   ],
   "source": [
    "text = \"\"\n",
    "for char in tqdm([\"a\", \"b\", \"c\", \"d\"]):\n",
    "    sleep(0.25)\n",
    "    text = text + char"
   ]
  },
  {
   "cell_type": "markdown",
   "metadata": {
    "slideshow": {
     "slide_type": "fragment"
    }
   },
   "source": [
    "Instantiation outside of the loop allows for manual control over `tqdm()`:"
   ]
  },
  {
   "cell_type": "code",
   "execution_count": 9,
   "metadata": {
    "slideshow": {
     "slide_type": "-"
    }
   },
   "outputs": [
    {
     "name": "stderr",
     "output_type": "stream",
     "text": [
      "Processing d: 100%|██████████| 4/4 [00:01<00:00,  3.94it/s]\n"
     ]
    }
   ],
   "source": [
    "pbar = tqdm([\"a\", \"b\", \"c\", \"d\"])\n",
    "for char in pbar:\n",
    "    sleep(0.25)\n",
    "    pbar.set_description(\"Processing %s\" % char)"
   ]
  },
  {
   "cell_type": "markdown",
   "metadata": {
    "slideshow": {
     "slide_type": "subslide"
    }
   },
   "source": [
    "### Manual\n",
    "\n",
    "Manual control on `tqdm()` updates by using a `with` statement:"
   ]
  },
  {
   "cell_type": "code",
   "execution_count": 10,
   "metadata": {
    "slideshow": {
     "slide_type": "-"
    }
   },
   "outputs": [
    {
     "name": "stderr",
     "output_type": "stream",
     "text": [
      "100%|██████████| 100/100 [00:01<00:00, 98.28it/s]\n"
     ]
    }
   ],
   "source": [
    "with tqdm(total=100) as pbar:\n",
    "    for i in range(10):\n",
    "        sleep(0.1)\n",
    "        pbar.update(10)"
   ]
  },
  {
   "cell_type": "markdown",
   "metadata": {
    "slideshow": {
     "slide_type": "fragment"
    }
   },
   "source": [
    "- If given a `total` (or an iterable with `len()`), predictive stats are displayed.\n",
    "- `with` is also optional (but don't forget to `del` or `close()` at the end)"
   ]
  },
  {
   "cell_type": "code",
   "execution_count": 11,
   "metadata": {
    "slideshow": {
     "slide_type": "-"
    }
   },
   "outputs": [
    {
     "name": "stderr",
     "output_type": "stream",
     "text": [
      "100%|██████████| 100/100 [00:01<00:00, 98.11it/s]\n"
     ]
    }
   ],
   "source": [
    "pbar = tqdm(total=100)\n",
    "for i in range(10):\n",
    "    sleep(0.1)\n",
    "    pbar.update(10)\n",
    "pbar.close()"
   ]
  },
  {
   "cell_type": "markdown",
   "metadata": {
    "slideshow": {
     "slide_type": "subslide"
    }
   },
   "source": [
    "### Module\n",
    "\n",
    "Simply inserting ``tqdm`` (or ``python3 -m tqdm``) between pipes will pass\n",
    "through all ``stdin`` to ``stdout`` while printing progress to ``stderr``.\n",
    "\n",
    "Note that the usual arguments for `tqdm` can also be specified."
   ]
  },
  {
   "cell_type": "markdown",
   "metadata": {
    "slideshow": {
     "slide_type": "fragment"
    }
   },
   "source": [
    "```sh\n",
    "# count lines of code in all *.py\n",
    "find . -name '*.py' -type f -exec cat \\{} \\; | wc -l\n",
    "# ... wait ages ...\n",
    "4318982\n",
    "```"
   ]
  },
  {
   "cell_type": "markdown",
   "metadata": {
    "slideshow": {
     "slide_type": "fragment"
    }
   },
   "source": [
    "```sh\n",
    "# the tqdm way\n",
    "find . -name '*.py' -type f -exec cat \\{} \\; | tqdm --unit loc --unit_scale \\\n",
    "   | wc -l\n",
    "4.32Mloc [00:06, 705kloc/s]\n",
    "4318982\n",
    "```"
   ]
  },
  {
   "cell_type": "markdown",
   "metadata": {
    "slideshow": {
     "slide_type": "subslide"
    }
   },
   "source": [
    "```sh\n",
    "# boring backup\n",
    "tar -zcf - ~/dloads > backup.tgz\n",
    "# ... are we there yet? ...\n",
    "```"
   ]
  },
  {
   "cell_type": "markdown",
   "metadata": {
    "slideshow": {
     "slide_type": "fragment"
    }
   },
   "source": [
    "```sh\n",
    "# with tqdm\n",
    "tar -zcf - ~/dloads | tqdm --bytes --total `du -sb ~/dloads | cut -f1` \\\n",
    "    > backup.tgz\n",
    " 32%|██████████▍                      | 8.89G/27.9G [00:42<01:31, 223MB/s]\n",
    "```"
   ]
  },
  {
   "cell_type": "markdown",
   "metadata": {
    "slideshow": {
     "slide_type": "fragment"
    }
   },
   "source": [
    "```sh\n",
    "7z a backup.7z docs/ | grep Compressing | \\\n",
    "    tqdm --total $(find docs/ -type f | wc -l) --unit files >> backup.log\n",
    "100%|███████████████████████████████▉| 8014/8014 [01:37<00:00, 82.29files/s]\n",
    "```"
   ]
  },
  {
   "cell_type": "markdown",
   "metadata": {
    "slideshow": {
     "slide_type": "slide"
    }
   },
   "source": [
    "## Documentation"
   ]
  },
  {
   "cell_type": "code",
   "execution_count": null,
   "metadata": {
    "slideshow": {
     "slide_type": "fragment"
    }
   },
   "outputs": [],
   "source": [
    "from tqdm import tqdm\n",
    "help(tqdm)"
   ]
  },
  {
   "cell_type": "code",
   "execution_count": null,
   "metadata": {
    "slideshow": {
     "slide_type": "fragment"
    }
   },
   "outputs": [],
   "source": [
    "tqdm?"
   ]
  },
  {
   "cell_type": "code",
   "execution_count": 12,
   "metadata": {
    "slideshow": {
     "slide_type": "fragment"
    }
   },
   "outputs": [
    {
     "name": "stdout",
     "output_type": "stream",
     "text": [
      "Usage:\r\n",
      "  tqdm [--help | options]\r\n",
      "\r\n",
      "Options:\r\n",
      "  -h, --help     Print this help and exit\r\n",
      "  -v, --version  Print version and exit\r\n",
      "\r\n",
      "  --desc=<desc>  : str, optional\r\n",
      "            Prefix for the progressbar.\r\n",
      "  --total=<total>  : int, optional\r\n",
      "            The number of expected iterations. If unspecified,\r\n",
      "            len(iterable) is used if possible. If float(\"inf\") or as a last\r\n",
      "            resort, only basic progress statistics are displayed\r\n",
      "            (no ETA, no progressbar).\r\n",
      "            If `gui` is True and this parameter needs subsequent updating,\r\n",
      "            specify an initial arbitrary large positive integer,\r\n",
      "            e.g. int(9e9).\r\n",
      "  --leave=<leave>  : bool, optional\r\n",
      "            If [default: True], keeps all traces of the progressbar\r\n",
      "            upon termination of iteration.\r\n",
      "  --ncols=<ncols>  : int, optional\r\n",
      "            The width of the entire output message. If specified,\r\n",
      "            dynamically resizes the progressbar to stay within this bound.\r\n",
      "            If unspecified, attempts to use environment width. The\r\n",
      "            fallback is a meter width of 10 and no limit for the counter and\r\n",
      "            statistics. If 0, will not print any meter (only stats).\r\n",
      "  --mininterval=<mininterval>  : float, optional\r\n",
      "            Minimum progress display update interval [default: 0.1] seconds.\r\n",
      "  --maxinterval=<maxinterval>  : float, optional\r\n",
      "            Maximum progress display update interval [default: 10] seconds.\r\n",
      "            Automatically adjusts `miniters` to correspond to `mininterval`\r\n",
      "            after long display update lag. Only works if `dynamic_miniters`\r\n",
      "            or monitor thread is enabled.\r\n",
      "  --miniters=<miniters>  : int, optional\r\n",
      "            Minimum progress display update interval, in iterations.\r\n",
      "            If 0 and `dynamic_miniters`, will automatically adjust to equal\r\n",
      "            `mininterval` (more CPU efficient, good for tight loops).\r\n",
      "            If > 0, will skip display of specified number of iterations.\r\n",
      "            Tweak this and `mininterval` to get very efficient loops.\r\n",
      "            If your progress is erratic with both fast and slow iterations\r\n",
      "            (network, skipping items, etc) you should set miniters=1.\r\n",
      "  --ascii=<ascii>  : bool or str, optional\r\n",
      "            If unspecified or False, use unicode (smooth blocks) to fill\r\n",
      "            the meter. The fallback is to use ASCII characters \" 123456789#\".\r\n",
      "  --disable=<disable>  : bool, optional\r\n",
      "            Whether to disable the entire progressbar wrapper\r\n",
      "            [default: False]. If set to None, disable on non-TTY.\r\n",
      "  --unit=<unit>  : str, optional\r\n",
      "            String that will be used to define the unit of each iteration\r\n",
      "            [default: it].\r\n",
      "  --unit_scale=<unit_scale>  : bool or int or float, optional\r\n",
      "            If 1 or True, the number of iterations will be reduced/scaled\r\n",
      "            automatically and a metric prefix following the\r\n",
      "            International System of Units standard will be added\r\n",
      "            (kilo, mega, etc.) [default: False]. If any other non-zero\r\n",
      "            number, will scale `total` and `n`.\r\n",
      "  --dynamic_ncols=<dynamic_ncols>  : bool, optional\r\n",
      "            If set, constantly alters `ncols` to the environment (allowing\r\n",
      "            for window resizes) [default: False].\r\n",
      "  --smoothing=<smoothing>  : float, optional\r\n",
      "            Exponential moving average smoothing factor for speed estimates\r\n",
      "            (ignored in GUI mode). Ranges from 0 (average speed) to 1\r\n",
      "            (current/instantaneous speed) [default: 0.3].\r\n",
      "  --bar_format=<bar_format>  : str, optional\r\n",
      "            Specify a custom bar string formatting. May impact performance.\r\n",
      "            [default: '{l_bar}{bar}{r_bar}'], where\r\n",
      "            l_bar='{desc}: {percentage:3.0f}%|' and\r\n",
      "            r_bar='| {n_fmt}/{total_fmt} [{elapsed}<{remaining}, '\r\n",
      "              '{rate_fmt}{postfix}]'\r\n",
      "            Possible vars: l_bar, bar, r_bar, n, n_fmt, total, total_fmt,\r\n",
      "              percentage, rate, rate_fmt, rate_noinv, rate_noinv_fmt,\r\n",
      "              rate_inv, rate_inv_fmt, elapsed, elapsed_s, remaining,\r\n",
      "              remaining_s, desc, postfix, unit.\r\n",
      "            Note that a trailing \": \" is automatically removed after {desc}\r\n",
      "            if the latter is empty.\r\n",
      "  --initial=<initial>  : int, optional\r\n",
      "            The initial counter value. Useful when restarting a progress\r\n",
      "            bar [default: 0].\r\n",
      "  --position=<position>  : int, optional\r\n",
      "            Specify the line offset to print this bar (starting from 0)\r\n",
      "            Automatic if unspecified.\r\n",
      "            Useful to manage multiple bars at once (eg, from threads).\r\n",
      "  --postfix=<postfix>  : dict or *, optional\r\n",
      "            Specify additional stats to display at the end of the bar.\r\n",
      "            Calls `set_postfix(**postfix)` if possible (dict).\r\n",
      "  --unit_divisor=<unit_divisor>  : float, optional\r\n",
      "            [default: 1000], ignored unless `unit_scale` is True.\r\n",
      "  --write_bytes=<write_bytes>  : bool, optional\r\n",
      "            If (default: None) and `file` is unspecified,\r\n",
      "            bytes will be written in Python 2. If `True` will also write\r\n",
      "            bytes. In all other cases will default to unicode.\r\n",
      "  --delim=<delim>  : chr, optional\r\n",
      "            Delimiting character [default: '\\n']. Use '\\0' for null.\r\n",
      "            N.B.: on Windows systems, Python converts '\\n' to '\\r\\n'.\r\n",
      "  --buf_size=<buf_size>  : int, optional\r\n",
      "            String buffer size in bytes [default: 256]\r\n",
      "            used when `delim` is specified.\r\n",
      "  --bytes=<bytes>  : bool, optional\r\n",
      "            If true, will count bytes, ignore `delim`, and default\r\n",
      "            `unit_scale` to True, `unit_divisor` to 1024, and `unit` to 'B'.\r\n",
      "  --manpath=<manpath>  : str, optional\r\n",
      "            Directory in which to install tqdm man pages.\r\n",
      "  --log=<log>  : str, optional\r\n",
      "            CRITICAL|FATAL|ERROR|WARN(ING)|[default: 'INFO']|DEBUG|NOTSET.\r\n",
      "\r\n"
     ]
    }
   ],
   "source": [
    "! python3 -m tqdm --help"
   ]
  },
  {
   "cell_type": "markdown",
   "metadata": {
    "slideshow": {
     "slide_type": "slide"
    }
   },
   "source": [
    "## Examples and Advance Usage\n",
    "\n",
    "- See the [examples](https://github.com/tqdm/tqdm/tree/master/examples)\n",
    "  folder;\n",
    "- import the module and run `help()`;\n",
    "- consult the [wiki](https://github.com/tqdm/tqdm/wiki)\n",
    "    - this has an\n",
    "      [excellent article](https://github.com/tqdm/tqdm/wiki/How-to-make-a-great-Progress-Bar)\n",
    "      on how to make a **great** progressbar, or\n",
    "- run this [DEMO.ipynb](DEMO.ipynb) file!\n",
    "\n",
    "[![binder-demo](https://mybinder.org/badge_logo.svg)](https://mybinder.org/v2/gh/tqdm/tqdm/master?filepath=DEMO.ipynb)\n",
    "[![notebook-demo](https://img.shields.io/badge/launch-notebook-orange.svg?logo=jupyter)](https://notebooks.ai/demo/gh/tqdm/tqdm)"
   ]
  },
  {
   "cell_type": "markdown",
   "metadata": {
    "slideshow": {
     "slide_type": "slide"
    }
   },
   "source": [
    "### Description and additional stats\n",
    "\n",
    "Custom information can be displayed and updated dynamically on `tqdm` bars\n",
    "with the `desc` and `postfix` arguments:"
   ]
  },
  {
   "cell_type": "code",
   "execution_count": 13,
   "metadata": {
    "slideshow": {
     "slide_type": "fragment"
    }
   },
   "outputs": [
    {
     "name": "stderr",
     "output_type": "stream",
     "text": [
      "GEN 9: 100%|██████████| 10/10 [00:01<00:00,  9.45it/s, gen=396, loss=0.439, lst=[1, 2], str=h]\n"
     ]
    }
   ],
   "source": [
    "from tqdm import trange\n",
    "from random import random, randint\n",
    "from time import sleep\n",
    "\n",
    "with trange(10) as t:\n",
    "    for i in t:\n",
    "        t.set_description('GEN %i' % i)\n",
    "        # formatted automatically based on argument's datatype\n",
    "        t.set_postfix(loss=random(), gen=randint(1,999), str='h', lst=[1, 2])\n",
    "        sleep(0.1)"
   ]
  },
  {
   "cell_type": "code",
   "execution_count": 14,
   "metadata": {
    "slideshow": {
     "slide_type": "subslide"
    }
   },
   "outputs": [
    {
     "name": "stderr",
     "output_type": "stream",
     "text": [
      "Batch        4\n"
     ]
    }
   ],
   "source": [
    "with tqdm(total=10, bar_format=\"{postfix[0]} {postfix[1][value]:>8.2g}\",\n",
    "          postfix=[\"Batch\", dict(value=0)]) as t:\n",
    "    for i in range(10):\n",
    "        sleep(0.1)\n",
    "        t.postfix[1][\"value\"] = i / 2\n",
    "        t.update()"
   ]
  },
  {
   "cell_type": "markdown",
   "metadata": {
    "slideshow": {
     "slide_type": "slide"
    }
   },
   "source": [
    "### Nested progress bars\n",
    "\n",
    "`tqdm` supports nested progress bars. Here's an example:"
   ]
  },
  {
   "cell_type": "code",
   "execution_count": null,
   "metadata": {
    "slideshow": {
     "slide_type": "fragment"
    }
   },
   "outputs": [],
   "source": [
    "from tqdm import trange\n",
    "from time import sleep\n",
    "\n",
    "for i in trange(4, desc='1st loop'):\n",
    "    for j in trange(5, desc='2nd loop'):\n",
    "        for k in trange(50, desc='3nd loop', leave=False):\n",
    "            sleep(0.01)"
   ]
  },
  {
   "cell_type": "markdown",
   "metadata": {
    "slideshow": {
     "slide_type": "fragment"
    }
   },
   "source": [
    "- On Windows [colorama](https://github.com/tartley/colorama) will be used if available\n",
    "- For manual control over positioning (e.g. for multi-threaded use), specify `position=n`"
   ]
  },
  {
   "cell_type": "markdown",
   "metadata": {
    "slideshow": {
     "slide_type": "slide"
    }
   },
   "source": [
    "### Hooks and callbacks\n",
    "\n",
    "`tqdm` can easily support callbacks/hooks and manual updates."
   ]
  },
  {
   "cell_type": "code",
   "execution_count": 15,
   "metadata": {
    "slideshow": {
     "slide_type": "subslide"
    }
   },
   "outputs": [],
   "source": [
    "import urllib, os\n",
    "\n",
    "eg_link = \"https://caspersci.uk.to/matryoshka.zip\"\n",
    "urllib.urlretrieve(eg_link, filename=os.devnull, data=None);"
   ]
  },
  {
   "cell_type": "code",
   "execution_count": 16,
   "metadata": {
    "slideshow": {
     "slide_type": "fragment"
    }
   },
   "outputs": [
    {
     "name": "stderr",
     "output_type": "stream",
     "text": [
      "matryoshka.zip: 262kB [00:00, 3.90MB/s]\n"
     ]
    }
   ],
   "source": [
    "class TqdmUpTo(tqdm):\n",
    "    def update_to(self, blocks_so_far=1, block_size=1, total=None):\n",
    "        if total is not None:\n",
    "            self.total = total\n",
    "        # will also set self.n = blocks_so_far * block_size\n",
    "        self.update(blocks_so_far * block_size - self.n)\n",
    "\n",
    "with TqdmUpTo(unit='B', unit_scale=True, miniters=1,\n",
    "              desc=eg_link.split('/')[-1]) as t:  # all optional kwargs\n",
    "    urllib.urlretrieve(eg_link, filename=os.devnull,\n",
    "                       reporthook=t.update_to, data=None)"
   ]
  },
  {
   "cell_type": "markdown",
   "metadata": {
    "slideshow": {
     "slide_type": "-"
    }
   },
   "source": [
    "It is recommend to use `miniters=1` whenever there is potentially\n",
    "large differences in iteration speed (e.g. downloading a file over\n",
    "a patchy connection)."
   ]
  },
  {
   "cell_type": "markdown",
   "metadata": {
    "slideshow": {
     "slide_type": "slide"
    }
   },
   "source": [
    "### Machine Learning"
   ]
  },
  {
   "cell_type": "code",
   "execution_count": 19,
   "metadata": {
    "slideshow": {
     "slide_type": "skip"
    }
   },
   "outputs": [
    {
     "name": "stdout",
     "output_type": "stream",
     "text": [
      "_________________________________________________________________\n",
      "Layer (type)                 Output Shape              Param #   \n",
      "=================================================================\n",
      "conv1d_1 (Conv1D)            (None, 1, 1)              65        \n",
      "_________________________________________________________________\n",
      "reshape_1 (Reshape)          (None, 1)                 0         \n",
      "=================================================================\n",
      "Total params: 65\n",
      "Trainable params: 65\n",
      "Non-trainable params: 0\n",
      "_________________________________________________________________\n"
     ]
    }
   ],
   "source": [
    "from tensorflow import keras\n",
    "import numpy as np\n",
    "\n",
    "# create a basic keras model [N, 64, 1] => [N, 1]\n",
    "model = keras.Sequential()\n",
    "model.add(keras.layers.Conv1D(1, 64, input_shape=(64, 1)))\n",
    "model.add(keras.layers.Reshape((1,)))\n",
    "model.compile('adam', loss='mse', metrics=['mae'])\n",
    "model.summary()\n",
    "\n",
    "# create data x => y\n",
    "x = np.random.random((1000, 64, 1)).astype(np.float32)\n",
    "y = (x + 5).sum(1)  # simple equation\n",
    "x += 0.1 * np.random.random(x.shape).astype(np.float32)  # add some noise to input"
   ]
  },
  {
   "cell_type": "code",
   "execution_count": 18,
   "metadata": {
    "slideshow": {
     "slide_type": "-"
    }
   },
   "outputs": [],
   "source": [
    "from tensorflow import keras\n",
    "model = keras.Sequential()\n",
    "\n",
    "# ... etc ..."
   ]
  },
  {
   "cell_type": "code",
   "execution_count": 20,
   "metadata": {
    "slideshow": {
     "slide_type": "subslide"
    }
   },
   "outputs": [
    {
     "name": "stdout",
     "output_type": "stream",
     "text": [
      "Epoch 1/10\n",
      "1000/1000 [==============================] - 1s 1ms/step - loss: 123450.4777 - mean_absolute_error: 351.3478\n",
      "Epoch 2/10\n",
      "1000/1000 [==============================] - 0s 44us/step - loss: 122634.9961 - mean_absolute_error: 350.1859\n",
      "Epoch 3/10\n",
      "1000/1000 [==============================] - 0s 52us/step - loss: 121823.3951 - mean_absolute_error: 349.0256\n",
      "Epoch 4/10\n",
      "1000/1000 [==============================] - 0s 47us/step - loss: 121018.2029 - mean_absolute_error: 347.8706\n",
      "Epoch 5/10\n",
      "1000/1000 [==============================] - 0s 52us/step - loss: 120219.2435 - mean_absolute_error: 346.7207\n",
      "Epoch 6/10\n",
      "1000/1000 [==============================] - 0s 49us/step - loss: 119424.1497 - mean_absolute_error: 345.5727\n",
      "Epoch 7/10\n",
      "1000/1000 [==============================] - 0s 45us/step - loss: 118632.8348 - mean_absolute_error: 344.4263\n",
      "Epoch 8/10\n",
      "1000/1000 [==============================] - 0s 45us/step - loss: 117845.8773 - mean_absolute_error: 343.2822\n",
      "Epoch 9/10\n",
      "1000/1000 [==============================] - 0s 56us/step - loss: 117062.4701 - mean_absolute_error: 342.1397\n",
      "Epoch 10/10\n",
      "1000/1000 [==============================] - 0s 45us/step - loss: 116284.3545 - mean_absolute_error: 341.0009\n"
     ]
    }
   ],
   "source": [
    "model.fit(x, y, epochs=10);"
   ]
  },
  {
   "cell_type": "code",
   "execution_count": 21,
   "metadata": {
    "slideshow": {
     "slide_type": "subslide"
    }
   },
   "outputs": [
    {
     "name": "stderr",
     "output_type": "stream",
     "text": [
      "100%|██████████| 10/10 [00:00<00:00, 24.24epoch/s, loss=1.09e+5, mean_absolute_error=330]\n"
     ]
    }
   ],
   "source": [
    "with tqdm(total=10, unit=\"epoch\") as t:\n",
    "    def cbk(epoch, logs):\n",
    "        t.set_postfix(logs, refresh=False)  # don't force a refresh\n",
    "        t.update()  # this may trigger a refresh\n",
    "    cbkWrapped = keras.callbacks.LambdaCallback(on_epoch_end=cbk)\n",
    "\n",
    "    model.fit(x, y, epochs=t.total, verbose=0, callbacks=[cbkWrapped])"
   ]
  },
  {
   "cell_type": "markdown",
   "metadata": {
    "slideshow": {
     "slide_type": "slide"
    }
   },
   "source": [
    "### Pandas Integration\n",
    "\n",
    "Due to popular demand (ergh)."
   ]
  },
  {
   "cell_type": "code",
   "execution_count": 22,
   "metadata": {
    "slideshow": {
     "slide_type": "-"
    }
   },
   "outputs": [
    {
     "name": "stderr",
     "output_type": "stream",
     "text": [
      "my bar!: 100%|██████████| 10/10 [00:00<00:00, 1626.01it/s]\n"
     ]
    },
    {
     "data": {
      "text/html": [
       "<div>\n",
       "<style scoped>\n",
       "    .dataframe tbody tr th:only-of-type {\n",
       "        vertical-align: middle;\n",
       "    }\n",
       "\n",
       "    .dataframe tbody tr th {\n",
       "        vertical-align: top;\n",
       "    }\n",
       "\n",
       "    .dataframe thead th {\n",
       "        text-align: right;\n",
       "    }\n",
       "</style>\n",
       "<table border=\"1\" class=\"dataframe\">\n",
       "  <thead>\n",
       "    <tr style=\"text-align: right;\">\n",
       "      <th></th>\n",
       "      <th>0</th>\n",
       "      <th>1</th>\n",
       "      <th>2</th>\n",
       "      <th>3</th>\n",
       "      <th>4</th>\n",
       "      <th>5</th>\n",
       "      <th>6</th>\n",
       "      <th>7</th>\n",
       "      <th>8</th>\n",
       "      <th>9</th>\n",
       "    </tr>\n",
       "  </thead>\n",
       "  <tbody>\n",
       "    <tr>\n",
       "      <th>0</th>\n",
       "      <td>0.343456</td>\n",
       "      <td>0.333026</td>\n",
       "      <td>0.013214</td>\n",
       "      <td>0.109925</td>\n",
       "      <td>0.027551</td>\n",
       "      <td>0.015859</td>\n",
       "      <td>0.084797</td>\n",
       "      <td>0.055252</td>\n",
       "      <td>0.276558</td>\n",
       "      <td>0.538887</td>\n",
       "    </tr>\n",
       "    <tr>\n",
       "      <th>1</th>\n",
       "      <td>0.491100</td>\n",
       "      <td>0.007598</td>\n",
       "      <td>0.008333</td>\n",
       "      <td>0.127863</td>\n",
       "      <td>0.325472</td>\n",
       "      <td>0.157241</td>\n",
       "      <td>0.555851</td>\n",
       "      <td>0.028682</td>\n",
       "      <td>0.145064</td>\n",
       "      <td>0.956230</td>\n",
       "    </tr>\n",
       "    <tr>\n",
       "      <th>2</th>\n",
       "      <td>0.002674</td>\n",
       "      <td>0.481197</td>\n",
       "      <td>0.693777</td>\n",
       "      <td>0.396851</td>\n",
       "      <td>0.129166</td>\n",
       "      <td>0.317659</td>\n",
       "      <td>0.007226</td>\n",
       "      <td>0.009895</td>\n",
       "      <td>0.678273</td>\n",
       "      <td>0.434440</td>\n",
       "    </tr>\n",
       "    <tr>\n",
       "      <th>3</th>\n",
       "      <td>0.002297</td>\n",
       "      <td>0.267686</td>\n",
       "      <td>0.163257</td>\n",
       "      <td>0.919152</td>\n",
       "      <td>0.340434</td>\n",
       "      <td>0.820713</td>\n",
       "      <td>0.495618</td>\n",
       "      <td>0.879623</td>\n",
       "      <td>0.688926</td>\n",
       "      <td>0.474775</td>\n",
       "    </tr>\n",
       "    <tr>\n",
       "      <th>4</th>\n",
       "      <td>0.589205</td>\n",
       "      <td>0.077341</td>\n",
       "      <td>0.020816</td>\n",
       "      <td>0.439388</td>\n",
       "      <td>0.063140</td>\n",
       "      <td>0.003705</td>\n",
       "      <td>0.061417</td>\n",
       "      <td>0.029562</td>\n",
       "      <td>0.473743</td>\n",
       "      <td>0.424798</td>\n",
       "    </tr>\n",
       "  </tbody>\n",
       "</table>\n",
       "</div>"
      ],
      "text/plain": [
       "          0         1         2         3         4         5         6  \\\n",
       "0  0.538010  0.102699  0.055480  0.167183  0.288499  0.066614  0.006604   \n",
       "1  0.497285  0.582091  0.802349  0.369679  0.479255  0.518561  0.733837   \n",
       "2  0.698740  0.934539  0.018428  0.263696  0.855759  0.786072  0.002393   \n",
       "3  0.192337  0.999742  0.137567  0.755121  0.432642  0.808919  0.174166   \n",
       "4  0.598779  0.033788  0.003034  0.477879  0.998528  0.042072  0.001831   \n",
       "\n",
       "          7         8         9  \n",
       "0  0.405072  0.471515  0.000071  \n",
       "1  0.500970  0.287351  0.062913  \n",
       "2  0.098743  0.234103  0.933087  \n",
       "3  0.307284  0.028818  0.104810  \n",
       "4  0.186821  0.242040  0.389488  "
      ]
     },
     "execution_count": 22,
     "metadata": {},
     "output_type": "execute_result"
    }
   ],
   "source": [
    "import pandas as pd\n",
    "import numpy as np\n",
    "from tqdm import tqdm\n",
    "\n",
    "df = pd.DataFrame(np.random.rand(5, 10))\n",
    "\n",
    "# Register `pandas.progress_apply`, `pandas.Series.map_apply`, etc with `tqdm`\n",
    "# (can use `tqdm_gui`, `tqdm_notebook`, optional kwargs, etc.)\n",
    "tqdm.pandas(desc=\"my bar!\")\n",
    "\n",
    "# `apply` => `progress_apply`\n",
    "# `map` => `progress_map`\n",
    "df.progress_apply(lambda x: x**2)\n",
    "# can also groupby:\n",
    "# df.groupby(0).progress_apply(lambda x: x**2)"
   ]
  },
  {
   "cell_type": "markdown",
   "metadata": {
    "slideshow": {
     "slide_type": "slide"
    }
   },
   "source": [
    "### IPython/Jupyter Integration\n",
    "\n",
    "IPython/Jupyter is supported via the `tqdm_notebook` submodule:"
   ]
  },
  {
   "cell_type": "code",
   "execution_count": null,
   "metadata": {
    "slideshow": {
     "slide_type": "-"
    }
   },
   "outputs": [],
   "source": [
    "from tqdm import tnrange, tqdm_notebook\n",
    "from time import sleep\n",
    "\n",
    "for i in tnrange(3, desc='1st loop'):\n",
    "    for j in tqdm_notebook(range(100), desc='2nd loop'):\n",
    "        sleep(0.01)"
   ]
  },
  {
   "cell_type": "markdown",
   "metadata": {
    "slideshow": {
     "slide_type": "subslide"
    }
   },
   "source": [
    "![Screenshot-Jupyter3](https://img.tqdm.ml/tqdm-jupyter-3.gif)\n",
    "\n",
    "- native Jupyter widget\n",
    "- fully working nested bars\n",
    "- colour hints (blue: normal, green: completed, red: error/interrupt, light blue: no ETA)"
   ]
  },
  {
   "cell_type": "markdown",
   "metadata": {
    "slideshow": {
     "slide_type": "subslide"
    }
   },
   "source": [
    "- Can let `tqdm` automatically choose between CLI or notebook versions"
   ]
  },
  {
   "cell_type": "code",
   "execution_count": null,
   "metadata": {
    "slideshow": {
     "slide_type": "-"
    }
   },
   "outputs": [],
   "source": [
    "from tqdm.autonotebook import tqdm  # may raise warning about Jupyter\n",
    "from tqdm.auto import tqdm  # who needs warnings\n",
    "tqdm.pandas()"
   ]
  },
  {
   "cell_type": "markdown",
   "metadata": {
    "slideshow": {
     "slide_type": "-"
    }
   },
   "source": [
    "- Cannot distinguish between `jupyter notebook` and `jupyter console`"
   ]
  },
  {
   "cell_type": "markdown",
   "metadata": {
    "slideshow": {
     "slide_type": "slide"
    }
   },
   "source": [
    "![](minority-code-extended.png)"
   ]
  },
  {
   "cell_type": "markdown",
   "metadata": {
    "slideshow": {
     "slide_type": "subslide"
    }
   },
   "source": [
    "[![](minority-code-tqdm.png)](https://www.cdcl.ml/sponsor/)\n",
    "[![](https://img.shields.io/badge/gift-donate-ff69b4.svg)](https://www.cdcl.ml/sponsor/)"
   ]
  },
  {
   "cell_type": "markdown",
   "metadata": {
    "slideshow": {
     "slide_type": "skip"
    }
   },
   "source": [
    "**tqdm**\n",
    "- Downloads [[1]]\n",
    "    - 2015 to 10 May 2018: 7,629,394\n",
    "    - 10 May 2018 to 4 May 2019: 31,734,471\n",
    "- Estimated Cost: $47,194 [[2]]\n",
    "- Codebase: 2,421 [[3]]\n",
    "- Contributors: 55 [[4]]\n",
    "- Estimated Effort: 1 person-years [[2]]\n",
    "- Current Maintainers: 1 [[5]]\n",
    "\n",
    "[1]: https://packaging.python.org/guides/analyzing-pypi-package-downloads\n",
    "[2]: https://www.openhub.net/p/tqdm/estimated_cost\n",
    "[3]: https://github.com/tqdm/tqdm/#authors\n",
    "[4]: https://github.com/tqdm/tqdm/graphs/contributors\n",
    "[5]: https://github.com/tqdm/tqdm/releases"
   ]
  },
  {
   "cell_type": "code",
   "execution_count": null,
   "metadata": {
    "slideshow": {
     "slide_type": "skip"
    }
   },
   "outputs": [],
   "source": [
    "\"%.1fM\" % ((7629394 + 31734471)/1e6)"
   ]
  }
 ],
 "metadata": {
  "kernelspec": {
   "display_name": "Python [conda env:tf]",
   "language": "python",
   "name": "conda-env-tf-py"
  },
  "language_info": {
   "codemirror_mode": {
    "name": "ipython"
   },
   "file_extension": ".py",
   "mimetype": "text/x-python",
   "name": "python",
   "nbconvert_exporter": "python"
  }
 },
 "nbformat": 4,
 "nbformat_minor": 2
}
